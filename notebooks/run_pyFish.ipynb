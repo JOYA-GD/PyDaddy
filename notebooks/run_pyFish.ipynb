{
 "cells": [
  {
   "cell_type": "markdown",
   "id": "compliant-masters",
   "metadata": {},
   "source": [
    "# Place the your data file in the same folder as this notebook and run the cells to use pyFish on your data\n",
    "> ### Note : Make sure your data file is save in the right format as follows:\n",
    "    -- Must not have nore than 3 columns\n",
    "    -- Must be either a csv or txt file\n",
    "    -- If your data file is a csv type, be the delimiter is a `,' (comma), if not you change the delimiter accordingly in `Load data` section\n",
    "    -- (preferable) named as `data.csv`, if not be sure to change it in `Load data` section.\n",
    "#### Note: Its recommended to install pyFish in different (python/anaconda) environment, see installation guide for more help."
   ]
  },
  {
   "cell_type": "markdown",
   "id": "fabulous-patch",
   "metadata": {},
   "source": [
    "# Import libaries"
   ]
  },
  {
   "cell_type": "code",
   "execution_count": null,
   "id": "overall-folks",
   "metadata": {},
   "outputs": [],
   "source": [
    "import pandas as pd"
   ]
  },
  {
   "cell_type": "markdown",
   "id": "meaning-aruba",
   "metadata": {},
   "source": [
    "### Import pyFish"
   ]
  },
  {
   "cell_type": "code",
   "execution_count": null,
   "id": "tested-bishop",
   "metadata": {},
   "outputs": [],
   "source": [
    "# Uncomment below two lines if executing without installation (not recommended)\n",
    "#import sys\n",
    "#sys.path.append('..')"
   ]
  },
  {
   "cell_type": "code",
   "execution_count": null,
   "id": "liberal-headquarters",
   "metadata": {},
   "outputs": [],
   "source": [
    "import pyFish\n",
    "pyFish.__version__"
   ]
  },
  {
   "cell_type": "markdown",
   "id": "interstate-enterprise",
   "metadata": {},
   "source": [
    "# Load data\n",
    "> ### This will load the data\n",
    "    -- Place your data file in the same directory as this notebook is in.\n",
    "    -- Either rename your data file as `data.csv` or give the proper file name below \n",
    "    -- Change the delimiter, in case, you have a csv file with delimiter other that `,`.\n",
    "    -- Timestamps (if any) must be either in the first column or last.\n",
    "    -- Data columns must have only float"
   ]
  },
  {
   "cell_type": "code",
   "execution_count": null,
   "id": "fantastic-australian",
   "metadata": {},
   "outputs": [],
   "source": [
    "# Change this according to your data file name\n",
    "file_name = 'sim_data_scalar_ternary.csv'\n",
    "delimiter = ','\n",
    "df = pd.read_csv(file_name, delimiter=delimiter, names=['a', 'b', 'c'])\n",
    "#This removes the columns additional columns\n",
    "for col in df.columns:\n",
    "    if df[col].isnull().all():\n",
    "        df = df.drop([col], axis=1)\n",
    "rows, cols = df.shape\n",
    "print('We found {} rows and {} columns'.format(rows, cols))"
   ]
  },
  {
   "cell_type": "markdown",
   "id": "developing-calendar",
   "metadata": {},
   "source": [
    "### What do these columns' represent?\n",
    "    -- Columns either show the time stamp data or SDE time series.\n",
    "    -- We need to know if the column is time stamp of sde time series data\n",
    "    -- edit the below according to your data\n",
    "\n",
    "### If your data has three columns with the first two columns being the SDE parameter in x and y, respectively and the 3rd column haveing time stamps, then \n",
    "> #### df.columns = ['time','M_x', 'M_y']\n",
    "\n",
    "### data with 2 columns but no time stamp\n",
    "> #### df.columns = ['M_x', 'M_y']\n",
    "\n",
    "> #### df.columns = ['time', 'M']"
   ]
  },
  {
   "cell_type": "code",
   "execution_count": null,
   "id": "cognitive-puzzle",
   "metadata": {},
   "outputs": [],
   "source": [
    "# In this example the first column is time stamp and the second is SDE data.\n",
    "df.columns = ['time', 'M']\n",
    "df.head()"
   ]
  },
  {
   "cell_type": "code",
   "execution_count": null,
   "id": "danish-aggregate",
   "metadata": {},
   "outputs": [],
   "source": [
    "# Now convert data to numpy array\n",
    "t = df['time'].to_numpy()\n",
    "M = df['M'].to_numpy()"
   ]
  },
  {
   "cell_type": "markdown",
   "id": "traditional-deputy",
   "metadata": {},
   "source": [
    "# Analyse using pyFish"
   ]
  },
  {
   "cell_type": "code",
   "execution_count": null,
   "id": "distant-commercial",
   "metadata": {},
   "outputs": [],
   "source": [
    "ddsde = pyFish.Characterize(data=[M], t=t)"
   ]
  },
  {
   "cell_type": "markdown",
   "id": "unusual-murray",
   "metadata": {},
   "source": [
    "## Show Time series"
   ]
  },
  {
   "cell_type": "code",
   "execution_count": null,
   "id": "starting-teaching",
   "metadata": {},
   "outputs": [],
   "source": [
    "fig_timeseries = ddsde.timeseries()\n",
    "fig_timeseries.show()"
   ]
  },
  {
   "cell_type": "markdown",
   "id": "institutional-vision",
   "metadata": {},
   "source": [
    "## Show Histograms"
   ]
  },
  {
   "cell_type": "code",
   "execution_count": null,
   "id": "wrapped-background",
   "metadata": {},
   "outputs": [],
   "source": [
    "fig_histogram = ddsde.histogram()\n",
    "fig_histogram.show()"
   ]
  },
  {
   "cell_type": "markdown",
   "id": "organic-wildlife",
   "metadata": {},
   "source": [
    "## Drift slider\n",
    "### Note:\n",
    "    -- If the sliders are not being displayed below, then prehaps you need to configure your notebook\n",
    "    -- refer: https://plotly.com/python/getting-started/"
   ]
  },
  {
   "cell_type": "code",
   "execution_count": null,
   "id": "identical-tutorial",
   "metadata": {},
   "outputs": [],
   "source": [
    "ddsde.drift()"
   ]
  },
  {
   "cell_type": "code",
   "execution_count": null,
   "id": "increased-communications",
   "metadata": {},
   "outputs": [],
   "source": [
    "ddsde.diffusion()"
   ]
  },
  {
   "cell_type": "markdown",
   "id": "necessary-thirty",
   "metadata": {},
   "source": [
    "# Get plots for a time scale"
   ]
  },
  {
   "cell_type": "code",
   "execution_count": null,
   "id": "positive-brunswick",
   "metadata": {
    "scrolled": false
   },
   "outputs": [],
   "source": [
    "ddsde.visualize(time_scale=23)"
   ]
  },
  {
   "cell_type": "markdown",
   "id": "numerical-offense",
   "metadata": {},
   "source": [
    "# Noise Characterstics Plots"
   ]
  },
  {
   "cell_type": "code",
   "execution_count": null,
   "id": "decent-alloy",
   "metadata": {},
   "outputs": [],
   "source": [
    "ddsde.noise_characterstics()"
   ]
  },
  {
   "cell_type": "markdown",
   "id": "steady-effectiveness",
   "metadata": {},
   "source": [
    "# Export Data"
   ]
  },
  {
   "cell_type": "code",
   "execution_count": null,
   "id": "massive-marine",
   "metadata": {},
   "outputs": [],
   "source": [
    "ddsde.export_data(include_mat=True, zip=True)"
   ]
  },
  {
   "cell_type": "markdown",
   "id": "expressed-slovak",
   "metadata": {},
   "source": [
    "# Diagnostics Plots"
   ]
  },
  {
   "cell_type": "code",
   "execution_count": null,
   "id": "mediterranean-skill",
   "metadata": {},
   "outputs": [],
   "source": [
    "#ddsde.diagnostic()"
   ]
  },
  {
   "cell_type": "code",
   "execution_count": null,
   "id": "suitable-enclosure",
   "metadata": {},
   "outputs": [],
   "source": []
  }
 ],
 "metadata": {
  "kernelspec": {
   "display_name": "Python 3",
   "language": "python",
   "name": "python3"
  },
  "language_info": {
   "codemirror_mode": {
    "name": "ipython",
    "version": 3
   },
   "file_extension": ".py",
   "mimetype": "text/x-python",
   "name": "python",
   "nbconvert_exporter": "python",
   "pygments_lexer": "ipython3",
   "version": "3.7.9"
  }
 },
 "nbformat": 4,
 "nbformat_minor": 5
}
