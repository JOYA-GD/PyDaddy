{
 "cells": [
  {
   "cell_type": "markdown",
   "metadata": {},
   "source": [
    "# Import Modules"
   ]
  },
  {
   "cell_type": "code",
   "execution_count": null,
   "metadata": {},
   "outputs": [],
   "source": [
    "import numpy as np\n",
    "import matplotlib.pyplot as plt\n",
    "import matplotlib as mpl\n",
    "import seaborn as sns"
   ]
  },
  {
   "cell_type": "code",
   "execution_count": null,
   "metadata": {},
   "outputs": [],
   "source": [
    "#%load_ext autoreload\n",
    "#%autoreload 2"
   ]
  },
  {
   "cell_type": "code",
   "execution_count": null,
   "metadata": {},
   "outputs": [],
   "source": [
    "import pyFish\n",
    "from pyFish.tests import load_sample_data\n",
    "pyFish.__version__"
   ]
  },
  {
   "cell_type": "markdown",
   "metadata": {},
   "source": [
    "# Load Sample data"
   ]
  },
  {
   "cell_type": "code",
   "execution_count": null,
   "metadata": {},
   "outputs": [],
   "source": [
    "data = load_sample_data('data/model_data/vector/ternary.csv')\n",
    "Mx = data[:,0]\n",
    "My = data[:,1]\n",
    "tint = 0.12"
   ]
  },
  {
   "cell_type": "markdown",
   "metadata": {},
   "source": [
    "# To run the analysis\n",
    "### Initialize object with parameters\n",
    "<code>pyFish.Characterize(\n",
    "    data,\n",
    "    t,\n",
    "    t_int=None,\n",
    "    dt='auto',\n",
    "    delta_t=1,\n",
    "    t_lag=1000,\n",
    "    inc=0.01,\n",
    "    inc_x=0.1,\n",
    "    inc_y=0.1,\n",
    "    max_order=10,\n",
    "    fft=True,\n",
    "    drift_order=None,\n",
    "    diff_order=None,\n",
    "    order_metric='R2_adj',\n",
    "    simple_method=True,\n",
    "    n_trials=1,\n",
    "    **kwargs,\n",
    ")\n",
    "</code>\n",
    "<details>\n",
    "    <summary>\n",
    "     Show more help\n",
    "    </summary>\n",
    "\n",
    "Input params:\n",
    "--------------\n",
    "<div class=\"alert alert-block alert-info\">\n",
    "    **data** : list\n",
    "\n",
    "    time series data to be analysed, data = [x] for scalar data and data = [x1, x2] for vector\n",
    "    where x, x1 and x2 are of numpy.array object type\n",
    "    \n",
    "**t** : numpy.array\n",
    "\n",
    "    time stamp of time series\n",
    "\n",
    "**t_int** : float\n",
    "\n",
    "    time increment between consecutive observations of the time series\n",
    "    \n",
    "**dt** = 'auto' : 'auto' or int\n",
    "\n",
    "    time scale to run the analysis on (for determinsitic part);\n",
    "    algorithm estimates dt if 'auto' is passed, else takes the user input\n",
    "    \n",
    "**delta_t** = 1 : int\n",
    "\n",
    "    time scale to run the analysis on (for stochastic part)\n",
    "    \n",
    "**inc** = 0.01 : float\n",
    "\n",
    "    increment in order parameter for scalar data\n",
    "    \n",
    "**inc_x** = 0.1 : float\n",
    "\n",
    "    increment in order parameter for vector data x1\n",
    "    \n",
    "**inc_y** = 0.1 : float\n",
    "\n",
    "    increment in order parameter for vector data x2\n",
    "    \n",
    "**drift_order** = None : int\n",
    "\n",
    "    order of polynomial to be fit for calculated drift (deterministic part);\n",
    "    if None, algorithim estimates the optimium drift_order\n",
    "    \n",
    "**diff_order** = None : int\n",
    "\n",
    "    order of polynomial to be fit for calculated diff (stochastic part);\n",
    "    if None, algorithim estimates the optimium diff_order\n",
    "    \n",
    "**max_order** = 10 : int\n",
    "\n",
    "    maxmium drift_order and diff_order to consider\n",
    "    \n",
    "**fft** = True : bool\n",
    "\n",
    "    if true use fft method to calculate autocorrelation else, use standard method\n",
    "    \n",
    "**t_lag** = 1000 : int\n",
    "\n",
    "    maxmium lag to use to calculate acf\n",
    "\n",
    "****kwargs** \n",
    "    all the parameters for pyFish.preporcessing and pyFish.noise_analysis\n",
    "\n",
    "</div>\n",
    "    \n",
    "returns:\n",
    "-----------\n",
    "<div class=\"alert alert-block alert-success\">\n",
    "\n",
    "**output** : pyFish.output\n",
    "\n",
    "    object to access the analysed data, parameters, plots and save them.\n",
    "</div>\n",
    "</details>"
   ]
  },
  {
   "cell_type": "code",
   "execution_count": null,
   "metadata": {},
   "outputs": [],
   "source": [
    "import pyFish\n",
    "ch = pyFish.Characterize([Mx, My], t=tint)\n",
    "data = [ch._data_Mx, ch._data_My, ch._data_avgdriftX, ch._data_avgdriftY, ch._data_avgdiffX, ch._data_avgdiffY]"
   ]
  },
  {
   "cell_type": "markdown",
   "metadata": {},
   "source": [
    "# TimeSeries"
   ]
  },
  {
   "cell_type": "code",
   "execution_count": null,
   "metadata": {},
   "outputs": [],
   "source": [
    "ch.timeseries()"
   ]
  },
  {
   "cell_type": "markdown",
   "metadata": {},
   "source": [
    "# Histograms"
   ]
  },
  {
   "cell_type": "code",
   "execution_count": null,
   "metadata": {},
   "outputs": [],
   "source": [
    "ch.histogram()"
   ]
  },
  {
   "cell_type": "markdown",
   "metadata": {},
   "source": [
    "# Drift"
   ]
  },
  {
   "cell_type": "code",
   "execution_count": null,
   "metadata": {},
   "outputs": [],
   "source": [
    "ch.drift()"
   ]
  },
  {
   "cell_type": "markdown",
   "metadata": {},
   "source": [
    "# Diffusion"
   ]
  },
  {
   "cell_type": "code",
   "execution_count": null,
   "metadata": {},
   "outputs": [],
   "source": [
    "ch.diffusion()"
   ]
  },
  {
   "cell_type": "markdown",
   "metadata": {},
   "source": [
    "# Get analysed data\n",
    "<code>pyFish.output.data()</code>\n",
    "<details>\n",
    "    <summary>\n",
    "     Show more help\n",
    "    </summary>\n",
    "<div class=\"alert alert-block alert-info\">\n",
    "\n",
    "Input params:\n",
    "--------------\n",
    "**None**\n",
    "</div>\n",
    "    \n",
    "<div class=\"alert alert-block alert-success\">\n",
    "    \n",
    "returns:\n",
    "--------------\n",
    "**data** : list\n",
    "\n",
    "        if vector [drift, diff, avgdrift, avgdiff, op]\n",
    "        else, [avgdriftX, avgdriftY, avgdiffX, avgdiffY, avgdiffXY, op_x, op_y] \n",
    "</div>\n",
    "</details>"
   ]
  },
  {
   "cell_type": "code",
   "execution_count": null,
   "metadata": {
    "scrolled": true
   },
   "outputs": [],
   "source": [
    "avgdriftX, avgdriftY, avgdiffX, avgdiffY, avgdiffXY, op_x, op_y = ch.data()\n",
    "len(avgdriftX), len(avgdriftY), len(avgdiffX), len(avgdiffY), len(avgdiffXY), len(op_x), len(op_y)"
   ]
  },
  {
   "cell_type": "markdown",
   "metadata": {},
   "source": [
    "# To view parameters\n",
    "<code>pyFish.output.parameters(\n",
    "    save=False, \n",
    "    savepath=None, \n",
    "    file_name='parameters.txt'\n",
    "    )\n",
    "</code>\n",
    "<details>\n",
    "    <summary>\n",
    "     Show more help\n",
    "    </summary>\n",
    "<div class=\"alert alert-block alert-info\">\n",
    "    \n",
    "Input params:\n",
    "--------------\n",
    "\n",
    "**save** : bool\n",
    "\n",
    "        if True, save parameters to file\n",
    "\n",
    "**savepath** : str\n",
    "\n",
    "        save destination path, if None, data is saved in current/working/directory/results\n",
    "        \n",
    "**file_name** = 'parameters.txt' : str\n",
    "\n",
    "        name of the file\n",
    "</div>\n",
    "<div class=\"alert alert-block alert-success\">\n",
    "    \n",
    "returns:\n",
    "------------\n",
    "**params** : dict, json\n",
    "    \n",
    "        all parameters used and calculated during analysis\n",
    "</div>\n",
    "</details>"
   ]
  },
  {
   "cell_type": "code",
   "execution_count": null,
   "metadata": {},
   "outputs": [],
   "source": [
    "parameters = ch.parameters()\n",
    "parameters"
   ]
  },
  {
   "cell_type": "markdown",
   "metadata": {},
   "source": [
    "# To show data plots\n",
    "<code>pyFish.output.visualize(\n",
    "    show=True, \n",
    "    save=False, \n",
    "    savepath=None\n",
    "    )\n",
    "</code>\n",
    "<details>\n",
    "    <summary>\n",
    "     Show more help\n",
    "    </summary>\n",
    "<div class=\"alert alert-block alert-info\">\n",
    "    \n",
    "Input params:\n",
    "--------------\n",
    "**show** = True : bool\n",
    "\n",
    "        if True, show the figures \n",
    "**save** = False : bool\n",
    "\n",
    "        if True save the figures to disk\n",
    "**savepath** = None : str\n",
    "\n",
    "        save destination path, if None, data is saved in current/working/directory/results/visualize\n",
    "</div>\n",
    "<div class=\"alert alert-block alert-success\">\n",
    "    \n",
    "returns:\n",
    "-------------\n",
    "        None\n",
    "</div>\n",
    "</details>"
   ]
  },
  {
   "cell_type": "code",
   "execution_count": null,
   "metadata": {},
   "outputs": [],
   "source": [
    "ch.visualize()"
   ]
  },
  {
   "cell_type": "markdown",
   "metadata": {},
   "source": [
    "# To show graphs used to estimate the time scale dt\n",
    "<code>pyFish.output.diagnostics(\n",
    "    show=True, \n",
    "    save=False, \n",
    "    savepath=None\n",
    "    )\n",
    "</code>\n",
    "<details>\n",
    "    <summary>\n",
    "     Show more help\n",
    "    </summary>\n",
    "<div class=\"alert alert-block alert-info\">\n",
    "\n",
    "Input params:\n",
    "--------------\n",
    "**show** = True : bool\n",
    "    \n",
    "        if True, show the figures \n",
    "**save** = False : bool\n",
    "    \n",
    "        if True save the figures to disk\n",
    "**savepath** = None : str\n",
    "    \n",
    "        save destination path, if None, data is saved in current/working/directory/results/diagnostics\n",
    "</div>\n",
    "<div class=\"alert alert-block alert-success\">\n",
    "\n",
    "returns:\n",
    "-------------\n",
    "    None\n",
    "</div>\n",
    "</details>"
   ]
  },
  {
   "cell_type": "code",
   "execution_count": null,
   "metadata": {},
   "outputs": [],
   "source": [
    " ch.diagnostic()"
   ]
  },
  {
   "cell_type": "markdown",
   "metadata": {},
   "source": [
    "# Noise Characterstics plots\n",
    "<code>pyFish.output.noise_characterstics(\n",
    "    show=True, \n",
    "    save=False, \n",
    "    savepath=None\n",
    "    )\n",
    "</code>\n",
    "<details>\n",
    "    <summary>\n",
    "     Show more help\n",
    "    </summary>\n",
    "<div class=\"alert alert-block alert-info\">\n",
    "    \n",
    "Input params:\n",
    "--------------\n",
    "**show** = True : bool\n",
    "\n",
    "        if True, show the figures \n",
    "**save** = False : bool\n",
    "\n",
    "        if True save the figures to disk\n",
    "**savepath** = None : str\n",
    "\n",
    "        save destination path, if None, data is saved in \n",
    "        current/working/directory/results/noise_characterstics\n",
    "</div>\n",
    "<div class=\"alert alert-block alert-success\">\n",
    "    \n",
    "returns:\n",
    "--------------\n",
    "        None\n",
    "</div>\n",
    "</details>"
   ]
  },
  {
   "cell_type": "code",
   "execution_count": null,
   "metadata": {},
   "outputs": [],
   "source": [
    "ch.noise_characterstics()"
   ]
  },
  {
   "cell_type": "markdown",
   "metadata": {},
   "source": [
    "# To save data to disk\n",
    "<code>pyFish.output.save_data(\n",
    "    file_name=None, \n",
    "    savepath=None, \n",
    "    savemat=True\n",
    "    )\n",
    "</code>\n",
    "<details>\n",
    "    <summary>\n",
    "     Show more help\n",
    "    </summary>\n",
    "<div class=\"alert alert-block alert-info\">\n",
    "\n",
    "Input params:\n",
    "--------------\n",
    "**file_name** : str\n",
    "\n",
    "        name of the file, if None, file name will be the time a which the data was analysed\n",
    "**savepath** : str\n",
    "\n",
    "        destination path to save data, if None, files will me saved in current/working/directory/results\n",
    "**savemat** : bool\n",
    "\n",
    "        if True also saves the data in matlab compatable (.mat) format.\n",
    "</div>\n",
    "<div class=\"alert alert-block alert-success\">\n",
    "\n",
    "returns:\n",
    "-------------\n",
    "        None\n",
    "</div>\n",
    "</details>"
   ]
  },
  {
   "cell_type": "code",
   "execution_count": null,
   "metadata": {},
   "outputs": [],
   "source": [
    "ch.save_data()"
   ]
  },
  {
   "cell_type": "markdown",
   "metadata": {},
   "source": [
    "# To save the data along with plots\n",
    "<code>pyFish.output.save_all_data(\n",
    "    savepath=None, \n",
    "    show=False, \n",
    "    file_name=None\n",
    "    )\n",
    "</code>\n",
    "<details>\n",
    "    <summary>\n",
    "     Show more help\n",
    "    </summary>\n",
    "<div class=\"alert alert-block alert-info\">\n",
    "\n",
    "Input params:\n",
    "--------------\n",
    "**show** : bool\n",
    "\n",
    "        if True, shows the figure\n",
    "**file_name** : str\n",
    "\n",
    "        name of the files, if None, time at which data was analysed is consideres as file name\n",
    "**savepath** : str\n",
    "\n",
    "        save destination path, if None, data is saved in current/working/directory/results\n",
    "</div>\n",
    "<div class=\"alert alert-block alert-success\">\n",
    "\n",
    "returns:\n",
    "-------------\n",
    "        None\n",
    "</div>\n",
    "</details>"
   ]
  },
  {
   "cell_type": "code",
   "execution_count": null,
   "metadata": {},
   "outputs": [],
   "source": [
    "#ch.save_all_data()"
   ]
  },
  {
   "cell_type": "markdown",
   "metadata": {},
   "source": [
    "# To release the memory used\n",
    "> Useful while multiple datafiles in loop\n",
    "\n",
    "<code>pyFish.output.release()</code>\n",
    "<details>\n",
    "    <summary>\n",
    "     Show more help\n",
    "    </summary>\n",
    "<div class=\"alert alert-block alert-info\">\n",
    "\n",
    "Input params:\n",
    "--------------\n",
    "    None\n",
    "</div>\n",
    "<div class=\"alert alert-block alert-success\">\n",
    "\n",
    "returns:\n",
    "--------------\n",
    "    None\n",
    "</div>\n",
    "</details>"
   ]
  },
  {
   "cell_type": "code",
   "execution_count": null,
   "metadata": {},
   "outputs": [],
   "source": [
    "ch.release()"
   ]
  },
  {
   "cell_type": "code",
   "execution_count": null,
   "metadata": {},
   "outputs": [],
   "source": []
  }
 ],
 "metadata": {
  "kernelspec": {
   "display_name": "Python 3",
   "language": "python",
   "name": "python3"
  },
  "language_info": {
   "codemirror_mode": {
    "name": "ipython",
    "version": 3
   },
   "file_extension": ".py",
   "mimetype": "text/x-python",
   "name": "python",
   "nbconvert_exporter": "python",
   "pygments_lexer": "ipython3",
   "version": "3.7.9"
  },
  "toc-autonumbering": true,
  "toc-showcode": true,
  "toc-showmarkdowntxt": false
 },
 "nbformat": 4,
 "nbformat_minor": 4
}
