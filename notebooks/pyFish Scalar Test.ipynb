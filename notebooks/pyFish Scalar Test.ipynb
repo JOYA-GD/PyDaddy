{
 "cells": [
  {
   "cell_type": "markdown",
   "metadata": {},
   "source": [
    "# Import Modules"
   ]
  },
  {
   "cell_type": "code",
   "execution_count": 1,
   "metadata": {},
   "outputs": [],
   "source": [
    "import sys\n",
    "sys.path.append('../')\n",
    "import pyFish\n",
    "import numpy as np\n",
    "import matplotlib.pyplot as plt\n",
    "import seaborn as sns"
   ]
  },
  {
   "cell_type": "markdown",
   "metadata": {},
   "source": [
    "# Load Sample data\n",
    "> Comment second line for pairwise data\n",
    "\n",
    "> Uncomment 3rd line for vegetation data (Shuaib's data)"
   ]
  },
  {
   "cell_type": "code",
   "execution_count": 2,
   "metadata": {},
   "outputs": [],
   "source": [
    "data = np.loadtxt('../pyFish/data/pairwise/N50.csv', delimiter=',')\n",
    "data = np.loadtxt('../pyFish/data/ternary/N50.csv', delimiter=',')\n",
    "#data = np.loadtxt('data/extras/data.txt')\n",
    "X = data[:,0]\n",
    "t = data[:,1]\n",
    "t_int = t[-1]/len(t)"
   ]
  },
  {
   "cell_type": "markdown",
   "metadata": {},
   "source": [
    "# Initialize object with parameters\n",
    "### Default parameter values:\n",
    "\t\t\tdt='auto', \n",
    "\t\t\tdelta_t =1,\n",
    "\t\t\tt_int=None, \n",
    "\t\t\tt_lag=1000, \n",
    "\t\t\tinc=0.01, \n",
    "\t\t\tinc_x=0.1, \n",
    "\t\t\tinc_y=0.1,\n",
    "\t\t\tmax_order=10,\n",
    "\t\t\tfft = True,\n",
    "\t\t\tdrift_order = None,\n",
    "\t\t\tdiff_order = None,\n",
    "\t\t\torder_metric = \"R2_adj\",\n",
    "\t\t\tsimple_method = True,\n",
    "\t\t\tn_trials = 1,"
   ]
  },
  {
   "cell_type": "markdown",
   "metadata": {},
   "source": [
    "# Analyse"
   ]
  },
  {
   "cell_type": "code",
   "execution_count": 3,
   "metadata": {},
   "outputs": [
    {
     "name": "stderr",
     "output_type": "stream",
     "text": [
      "Gaussian check for underlying noise: 100%|██████████| 10000/10000 [00:00<00:00, 18116.88it/s]\n"
     ]
    },
    {
     "data": {
      "text/plain": [
       "<pyFish.output.output at 0x7f17e6e78f10>"
      ]
     },
     "execution_count": 3,
     "metadata": {},
     "output_type": "execute_result"
    }
   ],
   "source": [
    "out = pyFish.Characterize(data=[X],t=t)\n",
    "out"
   ]
  },
  {
   "cell_type": "code",
   "execution_count": 4,
   "metadata": {},
   "outputs": [
    {
     "data": {
      "text/plain": [
       "(100000, 99993, 200, 200, 200)"
      ]
     },
     "execution_count": 4,
     "metadata": {},
     "output_type": "execute_result"
    }
   ],
   "source": [
    "drift, diff, avgdrift, avgdiff, op = out.data()\n",
    "len(diff), len(drift),len(avgdrift), len(avgdiff), len(op)"
   ]
  },
  {
   "cell_type": "markdown",
   "metadata": {},
   "source": [
    "# View parameters"
   ]
  },
  {
   "cell_type": "code",
   "execution_count": 5,
   "metadata": {},
   "outputs": [
    {
     "data": {
      "text/plain": [
       "{'dt_': 'auto',\n",
       " 't_int': '0.999990000099999',\n",
       " 't_lag': '1000',\n",
       " 'simple_method': 'True',\n",
       " 'max_order': '10',\n",
       " 'inc': '0.01',\n",
       " 'inc_x': '0.1',\n",
       " 'inc_y': '0.1',\n",
       " 'delta_t': '1',\n",
       " 'order_metric': 'R2_adj',\n",
       " 'fft': 'True',\n",
       " 'drift_order': '3',\n",
       " 'diff_order': '2',\n",
       " 'n_trials': '1',\n",
       " 'vector': 'False',\n",
       " 'autocorrelation_time': '78.80827753926768',\n",
       " 'dt': '8',\n",
       " 'gaussian_noise': 'True',\n",
       " 'k': '-8.04244190745209',\n",
       " 'l_lim': '-68.11704825770272',\n",
       " 'h_lim': '89.42028383331365'}"
      ]
     },
     "execution_count": 5,
     "metadata": {},
     "output_type": "execute_result"
    }
   ],
   "source": [
    "out.parameters(save=True)"
   ]
  },
  {
   "cell_type": "markdown",
   "metadata": {},
   "source": [
    "# Visualize Output"
   ]
  },
  {
   "cell_type": "code",
   "execution_count": null,
   "metadata": {
    "scrolled": false
   },
   "outputs": [],
   "source": [
    "out.visualize(save=True)"
   ]
  },
  {
   "cell_type": "markdown",
   "metadata": {},
   "source": [
    "# Diagnostics graphs"
   ]
  },
  {
   "cell_type": "code",
   "execution_count": null,
   "metadata": {
    "scrolled": false
   },
   "outputs": [],
   "source": [
    " out.diagnostic(save=True)"
   ]
  },
  {
   "cell_type": "markdown",
   "metadata": {},
   "source": [
    "# Noise Characterstics"
   ]
  },
  {
   "cell_type": "code",
   "execution_count": null,
   "metadata": {
    "scrolled": false
   },
   "outputs": [],
   "source": [
    "out.noise_characterstics(save=True)"
   ]
  },
  {
   "cell_type": "code",
   "execution_count": null,
   "metadata": {},
   "outputs": [],
   "source": [
    "out.save_data()"
   ]
  },
  {
   "cell_type": "code",
   "execution_count": null,
   "metadata": {},
   "outputs": [],
   "source": []
  }
 ],
 "metadata": {
  "kernelspec": {
   "display_name": "Python 3",
   "language": "python",
   "name": "python3"
  },
  "language_info": {
   "codemirror_mode": {
    "name": "ipython",
    "version": 3
   },
   "file_extension": ".py",
   "mimetype": "text/x-python",
   "name": "python",
   "nbconvert_exporter": "python",
   "pygments_lexer": "ipython3",
   "version": "3.7.7"
  }
 },
 "nbformat": 4,
 "nbformat_minor": 2
}
