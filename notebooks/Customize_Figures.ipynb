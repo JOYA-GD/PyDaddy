{
 "cells": [
  {
   "cell_type": "markdown",
   "id": "ranking-chair",
   "metadata": {},
   "source": [
    "# `pyFish.editFigure` Customize plots to get publishable quality figures \n",
    "\n",
    "## pyFish has an added feature of a GUI plot editor, using [pylustrator](https://github.com/rgerum/pylustrator) (modifies and added some features to suit pyFish useablity)\n",
    "\n",
    "> #### Note: Its recommended to install pyFish in different (python/anaconda) environment, see installation guide for more help."
   ]
  },
  {
   "cell_type": "code",
   "execution_count": null,
   "id": "suffering-breed",
   "metadata": {},
   "outputs": [],
   "source": [
    "import sys\n",
    "sys.path.append('..')"
   ]
  },
  {
   "cell_type": "code",
   "execution_count": null,
   "id": "ordered-fitting",
   "metadata": {},
   "outputs": [],
   "source": [
    "import pyFish\n",
    "from pyFish.tests import load_sample_data"
   ]
  },
  {
   "cell_type": "markdown",
   "id": "looking-collector",
   "metadata": {},
   "source": [
    "## Analyse some data"
   ]
  },
  {
   "cell_type": "code",
   "execution_count": null,
   "id": "suffering-alert",
   "metadata": {},
   "outputs": [],
   "source": [
    "data = load_sample_data('data/model_data/vector/ternary.csv')\n",
    "Mx = data[:,0]\n",
    "My = data[:,1]\n",
    "tint = 0.12"
   ]
  },
  {
   "cell_type": "code",
   "execution_count": null,
   "id": "legislative-vector",
   "metadata": {},
   "outputs": [],
   "source": [
    "ddsde = pyFish.Characterize(data=[Mx, My], t=tint)"
   ]
  },
  {
   "cell_type": "markdown",
   "id": "mobile-freeware",
   "metadata": {},
   "source": [
    "## Get a figure"
   ]
  },
  {
   "cell_type": "code",
   "execution_count": null,
   "id": "complex-headline",
   "metadata": {},
   "outputs": [],
   "source": [
    "timeseries_figure = ddsde.timeseries()\n",
    "timeseries_figure.show()"
   ]
  },
  {
   "cell_type": "markdown",
   "id": "strategic-african",
   "metadata": {},
   "source": [
    "## To edit a figure, use `pyFish.editFigure`"
   ]
  },
  {
   "cell_type": "code",
   "execution_count": null,
   "id": "institutional-blank",
   "metadata": {},
   "outputs": [],
   "source": [
    "pyFish.editFigure(timeseries_figure)"
   ]
  },
  {
   "cell_type": "markdown",
   "id": "developed-butler",
   "metadata": {},
   "source": [
    "### This will invoke a GUI window to edit the figure, to produce publishable quality plots.\n",
    "### See [pylustrator demo video](https://youtu.be/xXPI4LLrNuM)\n",
    "> ### Note pylustrator used, changes form official release:\n",
    "> ### In this modified version, the self generated code will not be saved and all option to save the code are disabled, as it will modify package source code.\n",
    "> ### Figures can be saved in other formats (*.jpg, *.png, *.svg, *.pdf)\n",
    "> ### Added shortcut `ctrl+D` to fit canvas to screen\n",
    "\n",
    "## Original timeseries plot:\n",
    "<img src=\"imgs/timeseries0.png\" alt=\"Drawing\" style=\"width: 500px;\"/>\n",
    "\n",
    "## After editng:\n",
    "<img src=\"imgs/timeseries1.png\" alt=\"Drawing\" style=\"width: 1000px;\"/>"
   ]
  },
  {
   "cell_type": "code",
   "execution_count": null,
   "id": "capital-christian",
   "metadata": {},
   "outputs": [],
   "source": []
  }
 ],
 "metadata": {
  "kernelspec": {
   "display_name": "Python 3",
   "language": "python",
   "name": "python3"
  },
  "language_info": {
   "codemirror_mode": {
    "name": "ipython",
    "version": 3
   },
   "file_extension": ".py",
   "mimetype": "text/x-python",
   "name": "python",
   "nbconvert_exporter": "python",
   "pygments_lexer": "ipython3",
   "version": "3.7.9"
  }
 },
 "nbformat": 4,
 "nbformat_minor": 5
}
