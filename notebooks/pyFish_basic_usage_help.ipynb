{
 "cells": [
  {
   "cell_type": "markdown",
   "metadata": {},
   "source": [
    "# This notebook shows the basic usage of the pyFish library\n",
    "> #### Note: Its recommended to install pyFish in different (python/anaconda) environment, see installation guide for more help."
   ]
  },
  {
   "cell_type": "code",
   "execution_count": null,
   "metadata": {},
   "outputs": [],
   "source": [
    "#%load_ext autoreload\n",
    "#%autoreload 2"
   ]
  },
  {
   "cell_type": "code",
   "execution_count": null,
   "metadata": {},
   "outputs": [],
   "source": [
    "#import sys\n",
    "#sys.path.append('..')"
   ]
  },
  {
   "cell_type": "code",
   "execution_count": null,
   "metadata": {},
   "outputs": [],
   "source": [
    "import numpy as np\n",
    "import matplotlib.pyplot as plt\n",
    "import seaborn as sns"
   ]
  },
  {
   "cell_type": "code",
   "execution_count": null,
   "metadata": {},
   "outputs": [],
   "source": [
    "import pyFish\n",
    "pyFish.__version__"
   ]
  },
  {
   "cell_type": "markdown",
   "metadata": {},
   "source": [
    "# Load Sample data\n",
    "> ### The package includes a few sample data set which can be loaded using `pyFish.tests.load_sample_data` method by providing relevent path"
   ]
  },
  {
   "cell_type": "code",
   "execution_count": null,
   "metadata": {},
   "outputs": [],
   "source": [
    "from pyFish.tests import load_sample_data\n",
    "help(load_sample_data)"
   ]
  },
  {
   "cell_type": "code",
   "execution_count": null,
   "metadata": {},
   "outputs": [],
   "source": [
    "data = load_sample_data('data/model_data/vector/ternary.csv')\n",
    "Mx = data[:,0]\n",
    "My = data[:,1]\n",
    "tint = 0.12"
   ]
  },
  {
   "cell_type": "markdown",
   "metadata": {},
   "source": [
    "# To run the analysis\n",
    "> ### To analyse the data, you only need to use the `pyFish.Characterize` method.\n",
    "> ### The user should set all the relevent parametres and input the data using this method.\n",
    "> ### `data` is the only minimum required input required, rest all are assume the default values, unless changed. (see below for all parameters and their default setting)\n",
    "### Initialize object with parameters\n",
    "<code>pyFish.Characterize(\n",
    "    data,\n",
    "    t=1,\n",
    "    dt='auto',\n",
    "    delta_t=1,\n",
    "    t_lag=1000,\n",
    "    inc=0.01,\n",
    "    inc_x=0.1,\n",
    "    inc_y=0.1,\n",
    "    max_order=10,\n",
    "    fft=True,\n",
    "    drift_order=None,\n",
    "    diff_order=None,\n",
    "    order_metric='R2_adj',\n",
    "    simple_method=True,\n",
    "    n_trials=1,\n",
    "    n_dt=8,\n",
    "    **kwargs,\n",
    ")\n",
    "</code>\n",
    "<details>\n",
    "    <summary>\n",
    "        <h3>Show more help</h3>\n",
    "    </summary>\n",
    "\n",
    "Input params:\n",
    "--------------\n",
    "<div class=\"alert alert-block alert-info\">\n",
    "    **data** : list\n",
    "\n",
    "    time series data to be analysed, data = [x] for scalar data and data = [x1, x2] for vector\n",
    "    where x, x1 and x2 are of numpy.array object type\n",
    "    \n",
    "**t** : numpy.array\n",
    "\n",
    "    time stamp of time series\n",
    "\n",
    "**t_int** : float\n",
    "\n",
    "    time increment between consecutive observations of the time series\n",
    "    \n",
    "**dt** = 'auto' : 'auto' or int\n",
    "\n",
    "    time scale to run the analysis on (for determinsitic part);\n",
    "    algorithm estimates dt if 'auto' is passed, else takes the user input\n",
    "    \n",
    "**delta_t** = 1 : int\n",
    "\n",
    "    time scale to run the analysis on (for stochastic part)\n",
    "    \n",
    "**inc** = 0.01 : float\n",
    "\n",
    "    increment in order parameter for scalar data\n",
    "    \n",
    "**inc_x** = 0.1 : float\n",
    "\n",
    "    increment in order parameter for vector data x1\n",
    "    \n",
    "**inc_y** = 0.1 : float\n",
    "\n",
    "    increment in order parameter for vector data x2\n",
    "    \n",
    "**drift_order** = None : int\n",
    "\n",
    "    order of polynomial to be fit for calculated drift (deterministic part);\n",
    "    if None, algorithim estimates the optimium drift_order\n",
    "    \n",
    "**diff_order** = None : int\n",
    "\n",
    "    order of polynomial to be fit for calculated diff (stochastic part);\n",
    "    if None, algorithim estimates the optimium diff_order\n",
    "    \n",
    "**max_order** = 10 : int\n",
    "\n",
    "    maxmium drift_order and diff_order to consider\n",
    "    \n",
    "**fft** = True : bool\n",
    "\n",
    "    if true use fft method to calculate autocorrelation else, use standard method\n",
    "    \n",
    "**t_lag** = 1000 : int\n",
    "\n",
    "    maxmium lag to use to calculate acf\n",
    "\n",
    "**n_trials** = 1 : int\n",
    "\n",
    "    number of trials (if using) stitched data\n",
    "\n",
    "****kwargs** \n",
    "    all the parameters for pyFish.preporcessing and pyFish.noise_analysis\n",
    "\n",
    "</div>\n",
    "    \n",
    "returns:\n",
    "-----------\n",
    "<div class=\"alert alert-block alert-success\">\n",
    "\n",
    "**output** : pyFish.output\n",
    "\n",
    "    object to access the analysed data, parameters, plots and save them.\n",
    "</div>\n",
    "</details>"
   ]
  },
  {
   "cell_type": "markdown",
   "metadata": {},
   "source": [
    "### The `data` must be a list, `t` can be the time stamp array (of same lenght as timeseries) or a float value representing the time difference between consecutive observations\n",
    "### When `pyFish.Characterize` is run, it returns an object which stores all analysed results and data (named `ddsde` in this example) \n",
    "### Also, it prints the summary of the analysis, and "
   ]
  },
  {
   "cell_type": "code",
   "execution_count": null,
   "metadata": {},
   "outputs": [],
   "source": [
    "import pyFish"
   ]
  },
  {
   "cell_type": "code",
   "execution_count": null,
   "metadata": {},
   "outputs": [],
   "source": [
    "ddsde = pyFish.Characterize(data=[Mx, My], t=tint)"
   ]
  },
  {
   "cell_type": "markdown",
   "metadata": {},
   "source": [
    "### Analysed results and plots can be shown be calling the defined methods"
   ]
  },
  {
   "cell_type": "markdown",
   "metadata": {},
   "source": [
    "# TimeSeries"
   ]
  },
  {
   "cell_type": "code",
   "execution_count": null,
   "metadata": {},
   "outputs": [],
   "source": [
    "fig1 = ddsde.timeseries()\n",
    "fig1.show()"
   ]
  },
  {
   "cell_type": "markdown",
   "metadata": {},
   "source": [
    "# Histograms"
   ]
  },
  {
   "cell_type": "code",
   "execution_count": null,
   "metadata": {},
   "outputs": [],
   "source": [
    "fig2 = ddsde.histogram()\n",
    "fig2.show()"
   ]
  },
  {
   "cell_type": "markdown",
   "metadata": {},
   "source": [
    "# Drift"
   ]
  },
  {
   "cell_type": "code",
   "execution_count": null,
   "metadata": {},
   "outputs": [],
   "source": [
    "ddsde.drift()"
   ]
  },
  {
   "cell_type": "markdown",
   "metadata": {},
   "source": [
    "# Diffusion"
   ]
  },
  {
   "cell_type": "code",
   "execution_count": null,
   "metadata": {},
   "outputs": [],
   "source": [
    "ddsde.diffusion()"
   ]
  },
  {
   "cell_type": "markdown",
   "metadata": {},
   "source": [
    "# Get plots for a time scale"
   ]
  },
  {
   "cell_type": "code",
   "execution_count": null,
   "metadata": {
    "scrolled": false
   },
   "outputs": [],
   "source": [
    "ddsde.visualize(time_scale=23)"
   ]
  },
  {
   "cell_type": "markdown",
   "metadata": {},
   "source": [
    "# Noise Characterstics Plots"
   ]
  },
  {
   "cell_type": "code",
   "execution_count": null,
   "metadata": {},
   "outputs": [],
   "source": [
    "ddsde.noise_characterstics()"
   ]
  },
  {
   "cell_type": "markdown",
   "metadata": {},
   "source": [
    "# Export Data"
   ]
  },
  {
   "cell_type": "code",
   "execution_count": null,
   "metadata": {},
   "outputs": [],
   "source": [
    "ddsde.export_data(include_mat=True, zip=True)"
   ]
  },
  {
   "cell_type": "markdown",
   "metadata": {},
   "source": [
    "# Diagnostics Plots"
   ]
  },
  {
   "cell_type": "code",
   "execution_count": null,
   "metadata": {},
   "outputs": [],
   "source": [
    "#ddsde.diagnostic()"
   ]
  },
  {
   "cell_type": "markdown",
   "metadata": {},
   "source": [
    "# Get analysed data\n",
    "<code>pyFish.output.data()</code>\n",
    "<details>\n",
    "    <summary>\n",
    "        <h3>Show more help</h3>\n",
    "    </summary>\n",
    "<div class=\"alert alert-block alert-info\">\n",
    "\n",
    "Input params:\n",
    "--------------\n",
    "**None**\n",
    "</div>\n",
    "    \n",
    "<div class=\"alert alert-block alert-success\">\n",
    "    \n",
    "returns:\n",
    "--------------\n",
    "**data** : list\n",
    "\n",
    "        if vector [drift, diff, avgdrift, avgdiff, op]\n",
    "        else, [avgdriftX, avgdriftY, avgdiffX, avgdiffY, avgdiffXY, op_x, op_y] \n",
    "</div>\n",
    "</details>"
   ]
  },
  {
   "cell_type": "code",
   "execution_count": null,
   "metadata": {
    "scrolled": true
   },
   "outputs": [],
   "source": [
    "avgdriftX, avgdriftY, avgdiffX, avgdiffY, avgdiffXY, op_x, op_y = ddsde.data()\n",
    "len(avgdriftX), len(avgdriftY), len(avgdiffX), len(avgdiffY), len(avgdiffXY), len(op_x), len(op_y)"
   ]
  },
  {
   "cell_type": "markdown",
   "metadata": {},
   "source": [
    "# To view parameters\n",
    "<code>pyFish.output.parameters(\n",
    "    save=False, \n",
    "    savepath=None, \n",
    "    file_name='parameters.txt'\n",
    "    )\n",
    "</code>\n",
    "<details>\n",
    "    <summary>\n",
    "        <h3>Show more help</h3>\n",
    "    </summary>\n",
    "<div class=\"alert alert-block alert-info\">\n",
    "    \n",
    "Input params:\n",
    "--------------\n",
    "\n",
    "**save** : bool\n",
    "\n",
    "        if True, save parameters to file\n",
    "\n",
    "**savepath** : str\n",
    "\n",
    "        save destination path, if None, data is saved in current/working/directory/results\n",
    "        \n",
    "**file_name** = 'parameters.txt' : str\n",
    "\n",
    "        name of the file\n",
    "</div>\n",
    "<div class=\"alert alert-block alert-success\">\n",
    "    \n",
    "returns:\n",
    "------------\n",
    "**params** : dict, json\n",
    "    \n",
    "        all parameters used and calculated during analysis\n",
    "</div>\n",
    "</details>"
   ]
  },
  {
   "cell_type": "code",
   "execution_count": null,
   "metadata": {},
   "outputs": [],
   "source": [
    "parameters = ddsde.parameters()\n",
    "parameters"
   ]
  },
  {
   "cell_type": "markdown",
   "metadata": {},
   "source": [
    "# To show data plots\n",
    "<code>pyFish.output.visualize(\n",
    "    show=True, \n",
    "    save=False, \n",
    "    savepath=None\n",
    "    )\n",
    "</code>\n",
    "<details>\n",
    "    <summary>\n",
    "        <h3>Show more help</h3>\n",
    "    </summary>\n",
    "<div class=\"alert alert-block alert-info\">\n",
    "    \n",
    "Input params:\n",
    "--------------\n",
    "**show** = True : bool\n",
    "\n",
    "        if True, show the figures \n",
    "**save** = False : bool\n",
    "\n",
    "        if True save the figures to disk\n",
    "**savepath** = None : str\n",
    "\n",
    "        save destination path, if None, data is saved in current/working/directory/results/visualize\n",
    "</div>\n",
    "<div class=\"alert alert-block alert-success\">\n",
    "    \n",
    "returns:\n",
    "-------------\n",
    "        None\n",
    "</div>\n",
    "</details>"
   ]
  },
  {
   "cell_type": "code",
   "execution_count": null,
   "metadata": {},
   "outputs": [],
   "source": [
    "ddsde.visualize(time_scale=23)"
   ]
  },
  {
   "cell_type": "markdown",
   "metadata": {},
   "source": [
    "# To show graphs used to estimate the time scale dt\n",
    "<code>pyFish.output.diagnostics(\n",
    "    show=True, \n",
    "    save=False, \n",
    "    savepath=None\n",
    "    )\n",
    "</code>\n",
    "<details>\n",
    "    <summary>\n",
    "        <h3>Show more help</h3>\n",
    "    </summary>\n",
    "<div class=\"alert alert-block alert-info\">\n",
    "\n",
    "Input params:\n",
    "--------------\n",
    "**show** = True : bool\n",
    "    \n",
    "        if True, show the figures \n",
    "**save** = False : bool\n",
    "    \n",
    "        if True save the figures to disk\n",
    "**savepath** = None : str\n",
    "    \n",
    "        save destination path, if None, data is saved in current/working/directory/results/diagnostics\n",
    "</div>\n",
    "<div class=\"alert alert-block alert-success\">\n",
    "\n",
    "returns:\n",
    "-------------\n",
    "    None\n",
    "</div>\n",
    "</details>"
   ]
  },
  {
   "cell_type": "code",
   "execution_count": null,
   "metadata": {},
   "outputs": [],
   "source": [
    " ddsde.diagnostic()"
   ]
  },
  {
   "cell_type": "markdown",
   "metadata": {},
   "source": [
    "# Noise Characterstics plots\n",
    "<code>pyFish.output.noise_characterstics(\n",
    "    show=True, \n",
    "    save=False, \n",
    "    savepath=None\n",
    "    )\n",
    "</code>\n",
    "<details>\n",
    "    <summary>\n",
    "        <h3>Show more help</h3>\n",
    "    </summary>\n",
    "<div class=\"alert alert-block alert-info\">\n",
    "    \n",
    "Input params:\n",
    "--------------\n",
    "**show** = True : bool\n",
    "\n",
    "        if True, show the figures \n",
    "**save** = False : bool\n",
    "\n",
    "        if True save the figures to disk\n",
    "**savepath** = None : str\n",
    "\n",
    "        save destination path, if None, data is saved in \n",
    "        current/working/directory/results/noise_characterstics\n",
    "</div>\n",
    "<div class=\"alert alert-block alert-success\">\n",
    "    \n",
    "returns:\n",
    "--------------\n",
    "        None\n",
    "</div>\n",
    "</details>"
   ]
  },
  {
   "cell_type": "code",
   "execution_count": null,
   "metadata": {},
   "outputs": [],
   "source": [
    "ddsde.noise_characterstics()"
   ]
  },
  {
   "cell_type": "markdown",
   "metadata": {},
   "source": [
    "# To save data to disk\n",
    "<code>pyFish.output.save_data(\n",
    "    file_name=None, \n",
    "    savepath=None, \n",
    "    savemat=True\n",
    "    )\n",
    "</code>\n",
    "<details>\n",
    "    <summary>\n",
    "        <h3>Show more help</h3>\n",
    "    </summary>\n",
    "<div class=\"alert alert-block alert-info\">\n",
    "\n",
    "Input params:\n",
    "--------------\n",
    "**file_name** : str\n",
    "\n",
    "        name of the file, if None, file name will be the time a which the data was analysed\n",
    "**savepath** : str\n",
    "\n",
    "        destination path to save data, if None, files will me saved in current/working/directory/results\n",
    "**savemat** : bool\n",
    "\n",
    "        if True also saves the data in matlab compatable (.mat) format.\n",
    "</div>\n",
    "<div class=\"alert alert-block alert-success\">\n",
    "\n",
    "returns:\n",
    "-------------\n",
    "        None\n",
    "</div>\n",
    "</details>"
   ]
  },
  {
   "cell_type": "code",
   "execution_count": null,
   "metadata": {},
   "outputs": [],
   "source": [
    "#ddsde.save_data()\n",
    "#commented since it's still under development"
   ]
  },
  {
   "cell_type": "markdown",
   "metadata": {},
   "source": [
    "# To save the data along with plots\n",
    "<code>pyFish.output.save_all_data(\n",
    "    savepath=None, \n",
    "    show=False, \n",
    "    file_name=None\n",
    "    )\n",
    "</code>\n",
    "<details>\n",
    "    <summary>\n",
    "        <h3>Show more help</h3>\n",
    "    </summary>\n",
    "<div class=\"alert alert-block alert-info\">\n",
    "\n",
    "Input params:\n",
    "--------------\n",
    "**show** : bool\n",
    "\n",
    "        if True, shows the figure\n",
    "**file_name** : str\n",
    "\n",
    "        name of the files, if None, time at which data was analysed is consideres as file name\n",
    "**savepath** : str\n",
    "\n",
    "        save destination path, if None, data is saved in current/working/directory/results\n",
    "</div>\n",
    "<div class=\"alert alert-block alert-success\">\n",
    "\n",
    "returns:\n",
    "-------------\n",
    "        None\n",
    "</div>\n",
    "</details>"
   ]
  },
  {
   "cell_type": "code",
   "execution_count": null,
   "metadata": {},
   "outputs": [],
   "source": [
    "#ddsde.save_all_data()"
   ]
  },
  {
   "cell_type": "markdown",
   "metadata": {},
   "source": [
    "# To release the memory used\n",
    "> Useful while multiple datafiles in loop\n",
    "\n",
    "<code>pyFish.output.release()</code>\n",
    "<details>\n",
    "    <summary>\n",
    "        <h3>Show more help</h3>\n",
    "    </summary>\n",
    "<div class=\"alert alert-block alert-info\">\n",
    "\n",
    "Input params:\n",
    "--------------\n",
    "    None\n",
    "</div>\n",
    "<div class=\"alert alert-block alert-success\">\n",
    "\n",
    "returns:\n",
    "--------------\n",
    "    None\n",
    "</div>\n",
    "</details>"
   ]
  },
  {
   "cell_type": "code",
   "execution_count": null,
   "metadata": {},
   "outputs": [],
   "source": [
    "ddsde.release()"
   ]
  },
  {
   "cell_type": "code",
   "execution_count": null,
   "metadata": {},
   "outputs": [],
   "source": []
  }
 ],
 "metadata": {
  "kernelspec": {
   "display_name": "Python 3",
   "language": "python",
   "name": "python3"
  },
  "language_info": {
   "codemirror_mode": {
    "name": "ipython",
    "version": 3
   },
   "file_extension": ".py",
   "mimetype": "text/x-python",
   "name": "python",
   "nbconvert_exporter": "python",
   "pygments_lexer": "ipython3",
   "version": "3.7.9"
  },
  "toc-autonumbering": true,
  "toc-showcode": true,
  "toc-showmarkdowntxt": false
 },
 "nbformat": 4,
 "nbformat_minor": 4
}
