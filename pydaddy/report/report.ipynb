{
 "cells": [
  {
   "cell_type": "raw",
   "id": "fdd46df4",
   "metadata": {},
   "source": [
    "<style>\n",
    ".button {\n",
    "  border: none;\n",
    "  color: white;\n",
    "  padding: 15px 32px;\n",
    "  text-align: center;\n",
    "  text-decoration: none;\n",
    "  display: inline-block;\n",
    "  font-size: 16px;\n",
    "  margin: 4px 2px;\n",
    "  cursor: pointer;\n",
    "}\n",
    "\n",
    ".button1 {background-color: #008CBA;} /* Blue */\n",
    "</style>\n",
    "<div style = \"display: flex; justify-content:flex-end\">\n",
    "<button class=\"button button1\", id=\"btn\">Save Data</button>\n",
    "</div>"
   ]
  },
  {
   "cell_type": "raw",
   "id": "d9d1312c",
   "metadata": {},
   "source": [
    "<script>\n",
    "/*\n",
    "* FileSaver.js\n",
    "* A saveAs() FileSaver implementation.\n",
    "*\n",
    "* By Eli Grey, http://eligrey.com\n",
    "*\n",
    "* License : https://github.com/eligrey/FileSaver.js/blob/master/LICENSE.md (MIT)\n",
    "* source  : http://purl.eligrey.com/github/FileSaver.js\n",
    "*/\n",
    "\n",
    "// The one and only way of getting global scope in all environments\n",
    "// https://stackoverflow.com/q/3277182/1008999\n",
    "var _global = typeof window === 'object' && window.window === window\n",
    "  ? window : typeof self === 'object' && self.self === self\n",
    "  ? self : typeof global === 'object' && global.global === global\n",
    "  ? global\n",
    "  : this\n",
    "\n",
    "function bom (blob, opts) {\n",
    "  if (typeof opts === 'undefined') opts = { autoBom: false }\n",
    "  else if (typeof opts !== 'object') {\n",
    "    console.warn('Deprecated: Expected third argument to be a object')\n",
    "    opts = { autoBom: !opts }\n",
    "  }\n",
    "\n",
    "  // prepend BOM for UTF-8 XML and text/* types (including HTML)\n",
    "  // note: your browser will automatically convert UTF-16 U+FEFF to EF BB BF\n",
    "  if (opts.autoBom && /^\\s*(?:text\\/\\S*|application\\/xml|\\S*\\/\\S*\\+xml)\\s*;.*charset\\s*=\\s*utf-8/i.test(blob.type)) {\n",
    "    return new Blob([String.fromCharCode(0xFEFF), blob], { type: blob.type })\n",
    "  }\n",
    "  return blob\n",
    "}\n",
    "\n",
    "function download (url, name, opts) {\n",
    "  var xhr = new XMLHttpRequest()\n",
    "  xhr.open('GET', url)\n",
    "  xhr.responseType = 'blob'\n",
    "  xhr.onload = function () {\n",
    "    saveAs(xhr.response, name, opts)\n",
    "  }\n",
    "  xhr.onerror = function () {\n",
    "    console.error('could not download file')\n",
    "  }\n",
    "  xhr.send()\n",
    "}\n",
    "\n",
    "function corsEnabled (url) {\n",
    "  var xhr = new XMLHttpRequest()\n",
    "  // use sync to avoid popup blocker\n",
    "  xhr.open('HEAD', url, false)\n",
    "  try {\n",
    "    xhr.send()\n",
    "  } catch (e) {}\n",
    "  return xhr.status >= 200 && xhr.status <= 299\n",
    "}\n",
    "\n",
    "// `a.click()` doesn't work for all browsers (#465)\n",
    "function click (node) {\n",
    "  try {\n",
    "    node.dispatchEvent(new MouseEvent('click'))\n",
    "  } catch (e) {\n",
    "    var evt = document.createEvent('MouseEvents')\n",
    "    evt.initMouseEvent('click', true, true, window, 0, 0, 0, 80,\n",
    "                          20, false, false, false, false, 0, null)\n",
    "    node.dispatchEvent(evt)\n",
    "  }\n",
    "}\n",
    "\n",
    "// Detect WebView inside a native macOS app by ruling out all browsers\n",
    "// We just need to check for 'Safari' because all other browsers (besides Firefox) include that too\n",
    "// https://www.whatismybrowser.com/guides/the-latest-user-agent/macos\n",
    "var isMacOSWebView = _global.navigator && /Macintosh/.test(navigator.userAgent) && /AppleWebKit/.test(navigator.userAgent) && !/Safari/.test(navigator.userAgent)\n",
    "\n",
    "var saveAs = _global.saveAs || (\n",
    "  // probably in some web worker\n",
    "  (typeof window !== 'object' || window !== _global)\n",
    "    ? function saveAs () { /* noop */ }\n",
    "\n",
    "  // Use download attribute first if possible (#193 Lumia mobile) unless this is a macOS WebView\n",
    "  : ('download' in HTMLAnchorElement.prototype && !isMacOSWebView)\n",
    "  ? function saveAs (blob, name, opts) {\n",
    "    var URL = _global.URL || _global.webkitURL\n",
    "    var a = document.createElement('a')\n",
    "    name = name || blob.name || 'download'\n",
    "\n",
    "    a.download = name\n",
    "    a.rel = 'noopener' // tabnabbing\n",
    "\n",
    "    // TODO: detect chrome extensions & packaged apps\n",
    "    // a.target = '_blank'\n",
    "\n",
    "    if (typeof blob === 'string') {\n",
    "      // Support regular links\n",
    "      a.href = blob\n",
    "      if (a.origin !== location.origin) {\n",
    "        corsEnabled(a.href)\n",
    "          ? download(blob, name, opts)\n",
    "          : click(a, a.target = '_blank')\n",
    "      } else {\n",
    "        click(a)\n",
    "      }\n",
    "    } else {\n",
    "      // Support blobs\n",
    "      a.href = URL.createObjectURL(blob)\n",
    "      setTimeout(function () { URL.revokeObjectURL(a.href) }, 4E4) // 40s\n",
    "      setTimeout(function () { click(a) }, 0)\n",
    "    }\n",
    "  }\n",
    "\n",
    "  // Use msSaveOrOpenBlob as a second approach\n",
    "  : 'msSaveOrOpenBlob' in navigator\n",
    "  ? function saveAs (blob, name, opts) {\n",
    "    name = name || blob.name || 'download'\n",
    "\n",
    "    if (typeof blob === 'string') {\n",
    "      if (corsEnabled(blob)) {\n",
    "        download(blob, name, opts)\n",
    "      } else {\n",
    "        var a = document.createElement('a')\n",
    "        a.href = blob\n",
    "        a.target = '_blank'\n",
    "        setTimeout(function () { click(a) })\n",
    "      }\n",
    "    } else {\n",
    "      navigator.msSaveOrOpenBlob(bom(blob, opts), name)\n",
    "    }\n",
    "  }\n",
    "\n",
    "  // Fallback to using FileReader and a popup\n",
    "  : function saveAs (blob, name, opts, popup) {\n",
    "    // Open a popup immediately do go around popup blocker\n",
    "    // Mostly only available on user interaction and the fileReader is async so...\n",
    "    popup = popup || open('', '_blank')\n",
    "    if (popup) {\n",
    "      popup.document.title =\n",
    "      popup.document.body.innerText = 'downloading...'\n",
    "    }\n",
    "\n",
    "    if (typeof blob === 'string') return download(blob, name, opts)\n",
    "\n",
    "    var force = blob.type === 'application/octet-stream'\n",
    "    var isSafari = /constructor/i.test(_global.HTMLElement) || _global.safari\n",
    "    var isChromeIOS = /CriOS\\/[\\d]+/.test(navigator.userAgent)\n",
    "\n",
    "    if ((isChromeIOS || (force && isSafari) || isMacOSWebView) && typeof FileReader !== 'undefined') {\n",
    "      // Safari doesn't allow downloading of blob URLs\n",
    "      var reader = new FileReader()\n",
    "      reader.onloadend = function () {\n",
    "        var url = reader.result\n",
    "        url = isChromeIOS ? url : url.replace(/^data:[^;]*;/, 'data:attachment/file;')\n",
    "        if (popup) popup.location.href = url\n",
    "        else location = url\n",
    "        popup = null // reverse-tabnabbing #460\n",
    "      }\n",
    "      reader.readAsDataURL(blob)\n",
    "    } else {\n",
    "      var URL = _global.URL || _global.webkitURL\n",
    "      var url = URL.createObjectURL(blob)\n",
    "      if (popup) popup.location = url\n",
    "      else location.href = url\n",
    "      popup = null // reverse-tabnabbing #460\n",
    "      setTimeout(function () { URL.revokeObjectURL(url) }, 4E4) // 40s\n",
    "    }\n",
    "  }\n",
    ")\n",
    "\n",
    "_global.saveAs = saveAs.saveAs = saveAs\n",
    "\n",
    "if (typeof module !== 'undefined') {\n",
    "  module.exports = saveAs;\n",
    "}\n",
    "\n",
    "      const b64toBlob = (b64Data, contentType='', sliceSize=512) => {\n",
    "  const byteCharacters = atob(b64Data);\n",
    "  const byteArrays = [];\n",
    "\n",
    "  for (let offset = 0; offset < byteCharacters.length; offset += sliceSize) {\n",
    "    const slice = byteCharacters.slice(offset, offset + sliceSize);\n",
    "\n",
    "    const byteNumbers = new Array(slice.length);\n",
    "    for (let i = 0; i < slice.length; i++) {\n",
    "      byteNumbers[i] = slice.charCodeAt(i);\n",
    "    }\n",
    "\n",
    "    const byteArray = new Uint8Array(byteNumbers);\n",
    "    byteArrays.push(byteArray);\n",
    "  }\n",
    "\n",
    "  const blob = new Blob(byteArrays, {type: contentType});\n",
    "  return blob;\n",
    "}\n",
    "</script>"
   ]
  },
  {
   "cell_type": "code",
   "execution_count": null,
   "id": "0c9a4e1a",
   "metadata": {},
   "outputs": [],
   "source": [
    "from IPython.display import display, Javascript\n",
    "def add_cell(text,  type='code', direct='above'):\n",
    "    text = text.replace('\\n','\\\\n').replace(\"\\\"\", \"\\\\\\\"\").replace(\"'\", \"\\\\'\")\n",
    "\n",
    "    display(Javascript('''\n",
    "    var cell = IPython.notebook.insert_cell_{}(\"{}\")\n",
    "    cell.set_text(\"{}\")\n",
    "    '''.format(direct, type, text)));"
   ]
  },
  {
   "cell_type": "code",
   "execution_count": null,
   "id": "c0369daa",
   "metadata": {},
   "outputs": [],
   "source": [
    "from IPython.display import display, Javascript\n",
    "import base64\n",
    "\n",
    "def embed_data(data_file):\n",
    "    with open(data_file, 'rb') as f:\n",
    "        b64 = base64.b64encode(f.read())\n",
    "    stream = b64.decode().replace('\\n','\\\\n').replace(\"\\\"\", \"\\\\\\\"\")\n",
    "    display(Javascript(\"const b64Data='{}';\".format(stream)));"
   ]
  },
  {
   "cell_type": "markdown",
   "id": "0122e14d-32d7-4781-accc-d65d12907226",
   "metadata": {},
   "source": [
    "# Importing and Exporting Data"
   ]
  },
  {
   "cell_type": "markdown",
   "id": "14d18db0-0154-426d-be33-2240396f8ae0",
   "metadata": {},
   "source": [
    "## Reading data, input formats\n",
    "\n",
    "`pydaddy.Characterize()` takes two main input arguments, the main timeseries `data`, and the timestep `t`. See the [Getting Started](./1%20-%20Getting%20Started.ipynb) for more details. \n",
    "\n",
    "- `data` should be a list containing one or two Numpy arrays, for scalar or vector case respectively.\n",
    "- `t` can either be a scalar, denoting the time-interval between samples, an array (of the same length as the array(s) in `data`) corresponding to the timestamps of each datapoint. `pydaddy` assumes that data-points are evenly spaced.\n",
    "\n",
    "The example notebooks use a specialized function `load_sample_dataset()` to load example data, but the data could come from any source, as long as it is in the correct format. For example, in the [Fitting non-polynomial functions](./4%20-%20Fitting%20non-polynomial%20functions.ipynb), the data was generated by simulating an SDE."
   ]
  },
  {
   "cell_type": "markdown",
   "id": "07d53661-043b-4c9b-b41b-3a95d81c444d",
   "metadata": {},
   "source": [
    "## Exporting data\n",
    "\n",
    "`pydaddy` allows you to export data as a Pandas DataFrame, or save data into a CSV file."
   ]
  },
  {
   "cell_type": "code",
   "execution_count": null,
   "id": "e8030084-eda4-4165-91fc-e85639d13f5a",
   "metadata": {},
   "outputs": [],
   "source": [
    "import pydaddy\n",
    "import pandas as pd"
   ]
  },
  {
   "cell_type": "code",
   "execution_count": null,
   "id": "5e75ac33-7374-4886-b154-f2c7c50aa925",
   "metadata": {},
   "outputs": [],
   "source": [
    "data, t = pydaddy.load_sample_dataset('model-data-vector-ternary')\n",
    "ddsde = pydaddy.Characterize(data, t, bins=20, show_summary=False)"
   ]
  },
  {
   "cell_type": "markdown",
   "id": "982b2a32-e95c-44b0-be91-621c7208c706",
   "metadata": {},
   "source": [
    "`ddsde.get_data()` returns a Pandas dataframe containing the drift and diffusion coefficients. By default data is returned as binned averages, with the number of bins controlled by the `bins` parameter in the `pydaddy.Characterize()` call."
   ]
  },
  {
   "cell_type": "code",
   "execution_count": null,
   "id": "494a4924-3012-4bfc-9ecb-ee17cdab584f",
   "metadata": {},
   "outputs": [],
   "source": [
    "df = ddsde.export_data()"
   ]
  },
  {
   "cell_type": "markdown",
   "id": "ff4e89ff-d184-4e2c-8d25-e91d1be700f6",
   "metadata": {},
   "source": [
    "`df` is a [Pandas](https://pandas.pydata.org) dataframe, and supports various data manipulations: see [Pandas documentation](https://pandas.pydata.org/docs/user_guide/index.html) for more details.\n",
    "\n",
    "For example, `df.head(n)` shows the first `n` rows of the dataframe. Individual columns (e.g. `drift_x`) can be accessed using the column names. (e.g. `df.drift_x`)."
   ]
  },
  {
   "cell_type": "code",
   "execution_count": null,
   "id": "51c2047a-35e9-46ba-a91e-e625acaf2bc0",
   "metadata": {},
   "outputs": [],
   "source": [
    "df.head()"
   ]
  },
  {
   "cell_type": "code",
   "execution_count": null,
   "id": "088541d1-582f-4767-8aa0-af3cfd349722",
   "metadata": {},
   "outputs": [],
   "source": [
    "df.drift_x"
   ]
  },
  {
   "cell_type": "markdown",
   "id": "5999c900-9b6f-43a2-85f0-19f89ab419b5",
   "metadata": {},
   "source": [
    "As mentioned before, the data is returned as binned averages by default. if raw, unbinned drift and diffusion data is required (i.e. drift and diffusion coefficients estimated at each time-point, use parameter `raw=True`. Note that the raw estimates will be very noisy. However, the raw estimates can be useful, for example, for further analysis with custom regression or curve-fitting."
   ]
  },
  {
   "cell_type": "code",
   "execution_count": null,
   "id": "f931b06c-29c9-4546-ab93-f2da6d329713",
   "metadata": {},
   "outputs": [],
   "source": [
    "df_raw = ddsde.export_data(raw=True)\n",
    "df_raw.head()"
   ]
  },
  {
   "cell_type": "code",
   "execution_count": null,
   "id": "ee100054-53f6-4086-badd-5fecab6571bd",
   "metadata": {},
   "outputs": [],
   "source": [
    "len(df), len(df_raw)"
   ]
  },
  {
   "cell_type": "markdown",
   "id": "101db409-800d-476e-99d5-14195e1e46f1",
   "metadata": {},
   "source": [
    "### Saving data\n",
    "\n",
    "To save data to a CSV file, use `ddsde.get_data()` while specifying a file-name using the `filename` parameter."
   ]
  },
  {
   "cell_type": "code",
   "execution_count": null,
   "id": "a04a59d7-e3d2-4923-a7bc-ddb422940bfc",
   "metadata": {},
   "outputs": [],
   "source": [
    "ddsde.export_data(filename='example_export.csv')"
   ]
  },
  {
   "cell_type": "code",
   "execution_count": null,
   "id": "4ad4ea12",
   "metadata": {},
   "outputs": [],
   "source": [
    "embed_data('example_export.csv')"
   ]
  },
  {
   "cell_type": "raw",
   "id": "453b5986",
   "metadata": {},
   "source": [
    "<script>\n",
    "const contentType = 'application/octet-stream';\n",
    "\n",
    "const blob = b64toBlob(b64Data, contentType);\n",
    "              \n",
    "// Start file download.\n",
    "document.getElementById(\"btn\")\n",
    ".addEventListener(\"click\", function() {\n",
    "    saveAs(blob, 'data.csv');\n",
    "\n",
    "}, false);\n",
    "</script>"
   ]
  },
  {
   "cell_type": "code",
   "execution_count": null,
   "id": "ac13e4fc",
   "metadata": {},
   "outputs": [],
   "source": []
  },
  {
   "cell_type": "code",
   "execution_count": null,
   "id": "35a3371a",
   "metadata": {},
   "outputs": [],
   "source": []
  }
 ],
 "metadata": {
  "kernelspec": {
   "display_name": "Python 3",
   "language": "python",
   "name": "python3"
  },
  "language_info": {
   "codemirror_mode": {
    "name": "ipython",
    "version": 3
   },
   "file_extension": ".py",
   "mimetype": "text/x-python",
   "name": "python",
   "nbconvert_exporter": "python",
   "pygments_lexer": "ipython3",
   "version": "3.8.13"
  }
 },
 "nbformat": 4,
 "nbformat_minor": 5
}
