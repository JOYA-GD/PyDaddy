{
 "cells": [
  {
   "cell_type": "code",
   "execution_count": 3,
   "id": "7b7c43f0",
   "metadata": {},
   "outputs": [],
   "source": [
    "%config Completer.use_jedi = False"
   ]
  },
  {
   "cell_type": "code",
   "execution_count": 21,
   "id": "24532958",
   "metadata": {},
   "outputs": [],
   "source": [
    "import pydaddy\n",
    "import pkg_resources\n",
    "import os"
   ]
  },
  {
   "cell_type": "code",
   "execution_count": 16,
   "id": "b9695368",
   "metadata": {},
   "outputs": [],
   "source": [
    "a = pkg_resources.resource_string('pydaddy', 'report/report.ipynb')"
   ]
  },
  {
   "cell_type": "code",
   "execution_count": 18,
   "id": "e0c690f9",
   "metadata": {},
   "outputs": [],
   "source": [
    "with open('a.ipynb', 'w') as f:\n",
    "    f.write(a.decode())"
   ]
  },
  {
   "cell_type": "code",
   "execution_count": 23,
   "id": "649ba826",
   "metadata": {},
   "outputs": [
    {
     "data": {
      "text/plain": [
       "'/home/ashwin/anaconda3/envs/pyddsde2/lib/python3.8/site-packages/pydaddy/report/report.ipynb'"
      ]
     },
     "execution_count": 23,
     "metadata": {},
     "output_type": "execute_result"
    }
   ],
   "source": [
    "os.path.join(os.path.dirname(pydaddy.__file__), 'report/report.ipynb')"
   ]
  },
  {
   "cell_type": "code",
   "execution_count": null,
   "id": "1bb919e6",
   "metadata": {},
   "outputs": [],
   "source": []
  },
  {
   "cell_type": "code",
   "execution_count": 27,
   "id": "1424e502",
   "metadata": {},
   "outputs": [
    {
     "data": {
      "text/plain": [
       "'pydaddy'"
      ]
     },
     "execution_count": 27,
     "metadata": {},
     "output_type": "execute_result"
    }
   ],
   "source": [
    "os.environ['pydaddy']"
   ]
  },
  {
   "cell_type": "code",
   "execution_count": 28,
   "id": "7f3b221b",
   "metadata": {},
   "outputs": [
    {
     "data": {
      "text/plain": [
       "0"
      ]
     },
     "execution_count": 28,
     "metadata": {},
     "output_type": "execute_result"
    }
   ],
   "source": [
    "os.system('jupyter nbconvert --execute --TemplateExporter.exclude_input=True a.ipynb --to html')"
   ]
  },
  {
   "cell_type": "code",
   "execution_count": null,
   "id": "567587e1",
   "metadata": {},
   "outputs": [],
   "source": []
  }
 ],
 "metadata": {
  "kernelspec": {
   "display_name": "Python 3",
   "language": "python",
   "name": "python3"
  },
  "language_info": {
   "codemirror_mode": {
    "name": "ipython",
    "version": 3
   },
   "file_extension": ".py",
   "mimetype": "text/x-python",
   "name": "python",
   "nbconvert_exporter": "python",
   "pygments_lexer": "ipython3",
   "version": "3.8.13"
  }
 },
 "nbformat": 4,
 "nbformat_minor": 5
}
